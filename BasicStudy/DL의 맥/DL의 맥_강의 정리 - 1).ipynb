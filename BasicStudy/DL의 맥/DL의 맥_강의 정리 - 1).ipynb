{
 "cells": [
  {
   "cell_type": "code",
   "execution_count": 1,
   "metadata": {},
   "outputs": [
    {
     "data": {
      "text/html": [
       "<style>.container { width:97% !important;} </style>"
      ],
      "text/plain": [
       "<IPython.core.display.HTML object>"
      ]
     },
     "metadata": {},
     "output_type": "display_data"
    }
   ],
   "source": [
    "#노트북 사이즈 조절\n",
    "\n",
    "from IPython.core.display import display, HTML\n",
    "display(HTML(\"<style>.container { width:97% !important;} </style>\"))\n",
    "\n",
    "from IPython.core.interactiveshell import InteractiveShell\n",
    "InteractiveShell.ast_node_interactivity = 'all'"
   ]
  },
  {
   "cell_type": "markdown",
   "metadata": {},
   "source": [
    "# 논문으로 짚어보는 딥러닝의 맥\n",
    "\n",
    "## 정리 첫번째 CNN\n"
   ]
  },
  {
   "cell_type": "markdown",
   "metadata": {},
   "source": [
    "## CNN - Convolution Neural Network\n",
    "\n",
    "<img src=http://cfile30.uf.tistory.com/image/9935C43A5C07840904E75E style=\"width: 1000px;\"/>\n",
    "\n",
    "* Convolution layers, subsampling (pooling) and fully connected layers 로 구성되어 있다.\n",
    "\n",
    "### Conv, Subsampling layers는 Feature extraction layers의 역할을 한다.\n",
    "\n",
    "* 사람이 실제 사물을 볼때도 사물의 특징으로 인식하므로, 이미지의 특정 feature를 뽑아 낸다.\n",
    "* 이렇게 뽑혀낸 Feature들을 Fully connected layer에서 구분한다 (classifier)\n",
    "\n",
    "#### how to extract a conv feature map from a input image\n",
    "\n",
    "<img src=http://cfile9.uf.tistory.com/image/992839475C078CF81DD5FA style=\"width: 1000px;\"/>\n",
    "\n",
    "* 노란색 필터가 stride 값만큼 옆으로 움직이며, Conv Feature Map을 채운다. \n",
    "* Filter 안에는 각각의 가중치가 있으며, 각각 연산 후 Feature맵에 저장한다.\n",
    "\n",
    "#### Zero-padding\n",
    "\n",
    "<img src=http://cfile26.uf.tistory.com/image/9991E7395C078EAE1C0819 style=\"width: 1000px;\"/>\n",
    "\n",
    "* 김성훈 교수님의 모두의 ML/DL 강의에서 쉽게 Zero-padding을 확인할 수 있다.\n",
    "* Conv 통과시 나오는 Feature map 사이즈는 $ \\frac {(N - F)}{stride + 1} $ 이다.\n",
    "* 같은 Feature 크기로 출력되도록 padding을 조절할 수도 있다.\n",
    "* 물론 작아지게도 가능 (pooling 계층 없이 conv로만 하는 방법도 있다)\n",
    "\n",
    "\n",
    "#### CNN\n",
    "\n",
    "<img src=http://cfile3.uf.tistory.com/image/99521B4E5C0790BC16439A style=\"width: 1000px;\"/>\n",
    "\n",
    "<img src=http://cfile10.uf.tistory.com/image/99D507495C0790D014064F style=\"width: 1000px;\"/>\n",
    "\n",
    "<img src=http://cfile22.uf.tistory.com/image/9985CB435C0790E215E36E style=\"width: 1000px;\"/>\n",
    "\n",
    "* 이런식의 구성 fully connected layers의 파라미터가 훨씬 많으므로 reshape해주는 경우도 있다.\n",
    "* Fully connected layers를 줄이고, Conv층을 늘리기도 한다."
   ]
  },
  {
   "cell_type": "code",
   "execution_count": null,
   "metadata": {},
   "outputs": [],
   "source": []
  }
 ],
 "metadata": {
  "kernelspec": {
   "display_name": "Python 3",
   "language": "python",
   "name": "python3"
  },
  "language_info": {
   "codemirror_mode": {
    "name": "ipython",
    "version": 3
   },
   "file_extension": ".py",
   "mimetype": "text/x-python",
   "name": "python",
   "nbconvert_exporter": "python",
   "pygments_lexer": "ipython3",
   "version": "3.6.5"
  }
 },
 "nbformat": 4,
 "nbformat_minor": 2
}
