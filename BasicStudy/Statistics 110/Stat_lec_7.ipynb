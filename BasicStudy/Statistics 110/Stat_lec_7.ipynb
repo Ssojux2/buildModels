{
 "cells": [
  {
   "cell_type": "code",
   "execution_count": 1,
   "metadata": {},
   "outputs": [
    {
     "data": {
      "text/html": [
       "<style>.container { width:97% !important;} </style>"
      ],
      "text/plain": [
       "<IPython.core.display.HTML object>"
      ]
     },
     "metadata": {},
     "output_type": "display_data"
    }
   ],
   "source": [
    "#노트북 사이즈 조절\n",
    "\n",
    "from IPython.core.display import display, HTML\n",
    "display(HTML(\"<style>.container { width:97% !important;} </style>\"))\n",
    "\n",
    "from IPython.core.interactiveshell import InteractiveShell\n",
    "InteractiveShell.ast_node_interactivity = 'all'"
   ]
  },
  {
   "cell_type": "markdown",
   "metadata": {},
   "source": [
    "# 7강 Gambler's Ruin and Random Variables"
   ]
  },
  {
   "cell_type": "markdown",
   "metadata": {},
   "source": [
    "## Gambler's Ruin\n",
    "* A, B 두명의 도박꾼이 매 라운드 1달러 씩 걸고 도박을 진행\n",
    "* 이긴 사람은 상대방의 1달러를 가져가고, 한명이 파산할때 까지 진행\n",
    "\n",
    "* p = P (A가 어떤 라운드를 이긴다)\n",
    "* q = 1 - p\n",
    "\n",
    "* A는 i 달러, B는 N - i 달러를 가지고 게임을 시작한다고 할때,\n",
    "    \n",
    "<img src=https://cphinf.pstatic.net/mooc/20180829_269/1535520674108Cetpy_PNG/7-2.png style=\"width: 1000px;\"/>\n",
    "\n",
    "* p의 확률로 A가 1달러를 더 얻고, q의 확률로 1 달러를 잃는다.\n",
    "* 0,N 은 흡수 상태 (absorbing state)라 하여, 게임 종료를 나타낸다."
   ]
  },
  {
   "cell_type": "code",
   "execution_count": null,
   "metadata": {},
   "outputs": [],
   "source": []
  }
 ],
 "metadata": {
  "kernelspec": {
   "display_name": "Python 3",
   "language": "python",
   "name": "python3"
  },
  "language_info": {
   "codemirror_mode": {
    "name": "ipython",
    "version": 3
   },
   "file_extension": ".py",
   "mimetype": "text/x-python",
   "name": "python",
   "nbconvert_exporter": "python",
   "pygments_lexer": "ipython3",
   "version": "3.6.5"
  }
 },
 "nbformat": 4,
 "nbformat_minor": 2
}
