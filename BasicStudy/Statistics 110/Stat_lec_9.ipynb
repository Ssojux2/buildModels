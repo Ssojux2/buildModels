{
 "cells": [
  {
   "cell_type": "code",
   "execution_count": 1,
   "metadata": {},
   "outputs": [
    {
     "data": {
      "text/html": [
       "<style>.container { width:97% !important;} </style>"
      ],
      "text/plain": [
       "<IPython.core.display.HTML object>"
      ]
     },
     "metadata": {},
     "output_type": "display_data"
    }
   ],
   "source": [
    "#노트북 사이즈 조절\n",
    "\n",
    "from IPython.core.display import display, HTML\n",
    "display(HTML(\"<style>.container { width:97% !important;} </style>\"))\n",
    "\n",
    "from IPython.core.interactiveshell import InteractiveShell\n",
    "InteractiveShell.ast_node_interactivity = 'all'"
   ]
  },
  {
   "cell_type": "markdown",
   "metadata": {},
   "source": [
    "# 9강 Expectation, Indicator Random Variables, Linearity"
   ]
  },
  {
   "cell_type": "markdown",
   "metadata": {},
   "source": [
    "## CDF (Cumulative distribution function)\n",
    "* F(X) = P(X <= x), 실수 x 에 대한 함수\n",
    "\n",
    "<img src=https://cphinf.pstatic.net/mooc/20180829_225/1535548770078JbR96_PNG/9-1.png style=\"width=1000px;\"/>\n",
    "\n",
    "<img src=http://cfile9.uf.tistory.com/image/99DC04455CA310001B189A style=\"width=1000px;\"/>"
   ]
  },
  {
   "cell_type": "markdown",
   "metadata": {},
   "source": [
    "<img src=http://cfile29.uf.tistory.com/image/99731D3B5CA311CC2CF7A2 style=\"width=1000px;\"/>\n",
    "\n",
    "<img src=http://cfile25.uf.tistory.com/image/995E774A5CA311F0254F42 style=\"width=1000px;\"/>\n",
    "\n",
    "<img src=http://cfile4.uf.tistory.com/image/9933EC355CA312361CB45B style=\"width=1000px;\"/>"
   ]
  },
  {
   "cell_type": "markdown",
   "metadata": {},
   "source": [
    "<img src=http://cfile28.uf.tistory.com/image/99E886505CA31251253392 style=\"width=1000px;\"/>"
   ]
  },
  {
   "cell_type": "code",
   "execution_count": null,
   "metadata": {},
   "outputs": [],
   "source": []
  }
 ],
 "metadata": {
  "kernelspec": {
   "display_name": "Python 3",
   "language": "python",
   "name": "python3"
  },
  "language_info": {
   "codemirror_mode": {
    "name": "ipython",
    "version": 3
   },
   "file_extension": ".py",
   "mimetype": "text/x-python",
   "name": "python",
   "nbconvert_exporter": "python",
   "pygments_lexer": "ipython3",
   "version": "3.6.5"
  }
 },
 "nbformat": 4,
 "nbformat_minor": 2
}
