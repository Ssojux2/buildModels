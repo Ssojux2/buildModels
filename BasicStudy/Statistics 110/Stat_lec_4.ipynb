{
 "cells": [
  {
   "cell_type": "code",
   "execution_count": 1,
   "metadata": {},
   "outputs": [
    {
     "data": {
      "text/html": [
       "<style>.container { width:97% !important;} </style>"
      ],
      "text/plain": [
       "<IPython.core.display.HTML object>"
      ]
     },
     "metadata": {},
     "output_type": "display_data"
    }
   ],
   "source": [
    "#노트북 사이즈 조절\n",
    "\n",
    "from IPython.core.display import display, HTML\n",
    "display(HTML(\"<style>.container { width:97% !important;} </style>\"))\n",
    "\n",
    "from IPython.core.interactiveshell import InteractiveShell\n",
    "InteractiveShell.ast_node_interactivity = 'all'"
   ]
  },
  {
   "cell_type": "markdown",
   "metadata": {},
   "source": [
    "# 4강 Conditional Probability"
   ]
  },
  {
   "cell_type": "markdown",
   "metadata": {},
   "source": [
    "## Independence\n",
    "* 정의 P(A,B) = P(A)P(B) 가 성립할때, 사건 A와 B는 독립이다.\n",
    "    * 주의!) disjoint(서로소)와 구별하기\n",
    "    * A, B가 disjoint한 사건이라면, A가 발생했을때 B는 발생할 수 없다.\n",
    "    * +) A, B가 독립이라면, 사건 A의 발생은 B의 발생 여부에 대한 그 어떤 영향도 끼치지 않음\n",
    "\n",
    "<img src=http://cfile6.uf.tistory.com/image/998F3D435CA1CCE32F8BED style=\"width: 1000px;\"/>"
   ]
  },
  {
   "cell_type": "markdown",
   "metadata": {},
   "source": [
    "## ex) Newton-Pepys Problem(1693)\n",
    "* 공정한 주사위를 갖고 있을때, 다음 중 어떤 경우가 발생할 확률이 가장 높은지?\n",
    "    * a) 6 개의 주사위 중 적어도 한 개가 '6'이 나온 경우\n",
    "    * a) 12 개의 주사위 중 적어도 두 개가 '6'이 나온 경우\n",
    "    * a) 18 개의 주사위 중 적어도 개 개가 '6'이 나온 경우\n",
    "\n",
    "* 정답은 a)\n",
    "\n",
    "<img src=http://cfile6.uf.tistory.com/image/99B939375CA1CD66303309 style='width=1000px;'>"
   ]
  },
  {
   "cell_type": "markdown",
   "metadata": {},
   "source": [
    "## Conditional Probability\n",
    "* 새로운 정보를 얻었을 때, 기존의 믿음/불확실성 을 어떻게 업데이트하는지?\n",
    "* 정의\n",
    "<img src=http://cfile9.uf.tistory.com/image/99B9F1495CA1CE1C0AD3D4 style='width=1000px;'>"
   ]
  },
  {
   "cell_type": "markdown",
   "metadata": {},
   "source": [
    "<img src=http://cfile5.uf.tistory.com/image/99659C3D5CA1CEA30ED2C1 style='width=1000px;'>"
   ]
  },
  {
   "cell_type": "code",
   "execution_count": null,
   "metadata": {},
   "outputs": [],
   "source": []
  }
 ],
 "metadata": {
  "kernelspec": {
   "display_name": "Python 3",
   "language": "python",
   "name": "python3"
  },
  "language_info": {
   "codemirror_mode": {
    "name": "ipython",
    "version": 3
   },
   "file_extension": ".py",
   "mimetype": "text/x-python",
   "name": "python",
   "nbconvert_exporter": "python",
   "pygments_lexer": "ipython3",
   "version": "3.6.5"
  }
 },
 "nbformat": 4,
 "nbformat_minor": 2
}
