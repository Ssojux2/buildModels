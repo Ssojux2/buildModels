{
 "cells": [
  {
   "cell_type": "code",
   "execution_count": 1,
   "metadata": {},
   "outputs": [
    {
     "data": {
      "text/html": [
       "<style>.container { width:97% !important;} </style>"
      ],
      "text/plain": [
       "<IPython.core.display.HTML object>"
      ]
     },
     "metadata": {},
     "output_type": "display_data"
    }
   ],
   "source": [
    "#노트북 사이즈 조절\n",
    "\n",
    "from IPython.core.display import display, HTML\n",
    "display(HTML(\"<style>.container { width:97% !important;} </style>\"))\n",
    "\n",
    "from IPython.core.interactiveshell import InteractiveShell\n",
    "InteractiveShell.ast_node_interactivity = 'all'"
   ]
  },
  {
   "cell_type": "markdown",
   "metadata": {},
   "source": [
    "# 8강 Random Variables and Their Distributions"
   ]
  },
  {
   "attachments": {},
   "cell_type": "markdown",
   "metadata": {},
   "source": [
    "## Binomial distribution\n",
    "* Parameter n,p (n >= 0, p 0~1 사이값에 따라 분포가 결정됨)\n",
    "\n",
    "<img src=http://cfile24.uf.tistory.com/image/99A47F435CA1A5D410D6C3 style=\"width=1000px;\"/>\n",
    "\n",
    "* X 와 같은 복잡한 분포는 x1, x2 ... xn 과 같은 간단한 분포로 쪼개서 생각할 수 있다.\n",
    "\n",
    "### (Probability mass function)\n",
    "<img src=http://cfile21.uf.tistory.com/image/99C79F445CA1A705124C50 style=\"width=1000px;\"/>"
   ]
  },
  {
   "cell_type": "markdown",
   "metadata": {},
   "source": [
    "## CDF, Cumulative distribution function (누적 확률 분포)\n",
    "\n",
    "<img src=http://cfile2.uf.tistory.com/image/99E81A3E5CA1A99D1B6E79 style=\"width=1000px;\"/>\n",
    "\n",
    "### hypergeometric distribution\n",
    "* 총 n draws 중에서 성공한 k 개의 확률 분포 (비복원)\n",
    "\n",
    "----------------------------------------------------------------------\n",
    "\n"
   ]
  },
  {
   "cell_type": "markdown",
   "metadata": {},
   "source": [
    "## 예제 문제\n",
    "\n",
    "<img src=http://cfile3.uf.tistory.com/image/99A4D14F5CA1AA692DDB7F style=\"width=1000px;\"/>\n",
    "\n",
    "### ex2)\n",
    "* like the elk problem\n",
    "<img src=https://cphinf.pstatic.net/mooc/20180829_152/1535540114321dpdr6_PNG/8-1.png style=\"width=1000px;\"/>\n",
    "\n",
    "<img src=http://cfile10.uf.tistory.com/image/9940513D5CA1AB041014BF style=\"width=1000px;\"/>"
   ]
  },
  {
   "cell_type": "markdown",
   "metadata": {},
   "source": [
    "## 위의 세 예제는 hypergeometric distribution (초기하분포, 비복원 추출) 이므로 이항 분포와는 다르다.\n",
    "\n",
    "<img src=http://cfile28.uf.tistory.com/image/9984D7335CA1ADE72650E5 style=\"width=1000px;\"/>\n",
    "\n",
    "<img src=http://cfile4.uf.tistory.com/image/9964DF3F5CA1AE062652F7 style=\"width=1000px;\"/>"
   ]
  },
  {
   "cell_type": "code",
   "execution_count": null,
   "metadata": {},
   "outputs": [],
   "source": []
  }
 ],
 "metadata": {
  "kernelspec": {
   "display_name": "Python 3",
   "language": "python",
   "name": "python3"
  },
  "language_info": {
   "codemirror_mode": {
    "name": "ipython",
    "version": 3
   },
   "file_extension": ".py",
   "mimetype": "text/x-python",
   "name": "python",
   "nbconvert_exporter": "python",
   "pygments_lexer": "ipython3",
   "version": "3.6.5"
  }
 },
 "nbformat": 4,
 "nbformat_minor": 2
}
