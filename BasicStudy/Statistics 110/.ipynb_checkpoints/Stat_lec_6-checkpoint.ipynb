{
 "cells": [
  {
   "cell_type": "code",
   "execution_count": 1,
   "metadata": {},
   "outputs": [
    {
     "data": {
      "text/html": [
       "<style>.container { width:97% !important;} </style>"
      ],
      "text/plain": [
       "<IPython.core.display.HTML object>"
      ]
     },
     "metadata": {},
     "output_type": "display_data"
    }
   ],
   "source": [
    "#노트북 사이즈 조절\n",
    "\n",
    "from IPython.core.display import display, HTML\n",
    "display(HTML(\"<style>.container { width:97% !important;} </style>\"))\n",
    "\n",
    "from IPython.core.interactiveshell import InteractiveShell\n",
    "InteractiveShell.ast_node_interactivity = 'all'"
   ]
  },
  {
   "cell_type": "markdown",
   "metadata": {},
   "source": [
    "# 6강 Monty Hall, Simpson's Paradox"
   ]
  },
  {
   "cell_type": "markdown",
   "metadata": {},
   "source": [
    "## Monty Hall Problem\n",
    "    \n",
    "<img src=https://cphinf.pstatic.net/mooc/20180822_5/15348681563919FjI3_PNG/6-1.png style=\"width: 1000px;\"/>\n",
    "\n",
    "* 세 개의 문 중 하나 뒤에는 차가 있고 나머지 두개는 염소가 있다.\n",
    "* 처음 고른 후 다른 곳에서 염소가 나왔을 때, 바꾸는게 유리한가?\n",
    "\n",
    "### 수형도로 풀기\n",
    "\n",
    "<img src=https://cphinf.pstatic.net/mooc/20180822_20/1534868342212siz3w_PNG/6-2.png style=\"width: 1000px;\"/>\n",
    "\n",
    "### 전체 확률 법칙으로 풀기\n",
    "<img src=http://cfile28.uf.tistory.com/image/997E59335CA1D2CC043070 style=\"width: 1000px;\"/>\n",
    "\n",
    "----------------------------------------------------------------------"
   ]
  },
  {
   "cell_type": "markdown",
   "metadata": {},
   "source": [
    "## Simpson's Paradox\n",
    "* 부분에서 성립하는 대소 관계는 전체를 보았을 때, 역전 될 수도 있다.\n",
    "\n",
    "### 심슨가족 예시 (수술 성공률)\n",
    "\n",
    "<img src=http://cfile30.uf.tistory.com/image/994779335CA1D3890883C4 style=\"width: 1000px;\"/>\n",
    "\n",
    "* 수술 종료별 성공률 => Dr.Hibbert가 더 좋은 의사\n",
    "* 하지만 성공률은 Dr.Nick이 더 높다.\n",
    "\n",
    "\n",
    "<img src=http://cfile7.uf.tistory.com/image/999CA64A5CA1D6B91FAC16 style=\"width: 1000px;\"/>"
   ]
  },
  {
   "cell_type": "code",
   "execution_count": null,
   "metadata": {},
   "outputs": [],
   "source": []
  }
 ],
 "metadata": {
  "kernelspec": {
   "display_name": "Python 3",
   "language": "python",
   "name": "python3"
  },
  "language_info": {
   "codemirror_mode": {
    "name": "ipython",
    "version": 3
   },
   "file_extension": ".py",
   "mimetype": "text/x-python",
   "name": "python",
   "nbconvert_exporter": "python",
   "pygments_lexer": "ipython3",
   "version": "3.6.5"
  }
 },
 "nbformat": 4,
 "nbformat_minor": 2
}
