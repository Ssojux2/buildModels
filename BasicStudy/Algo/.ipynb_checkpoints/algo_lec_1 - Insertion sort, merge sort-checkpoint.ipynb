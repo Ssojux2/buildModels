{
 "cells": [
  {
   "cell_type": "markdown",
   "metadata": {},
   "source": [
    "# Analysis of algorithms\n",
    "\n",
    "* how to make computer fast?\n",
    "* What's more important than per?\n",
    "    * stablity 안정성, Functionality 기능성, modularity 모듈성, scalibity 탄력성\n",
    "\n",
    "* why study algs and perf?\n",
    "    * Can we solve the problem?\n",
    "    * If perf wouldn't good enough, We wouldn't slove the problem.\n",
    "    * isn't it really fun..?"
   ]
  },
  {
   "cell_type": "markdown",
   "metadata": {},
   "source": [
    "# Problem sorting\n",
    "\n",
    "* input seq < a1, a2 ... , an > of numbers\n",
    "* output permutation < a1', a2' ... an' > \n",
    "* (such that = \\$)"
   ]
  },
  {
   "cell_type": "markdown",
   "metadata": {},
   "source": [
    "# Insertion sort\n",
    "\n",
    "* running time depends a lot of things\n",
    "* e.g) already sorted -> it has short running time.\n",
    "* prameterize in import size\n",
    "* we need to know upper bound -> 최대 시간을 알아야 유저에게 품질 보장 가능\n",
    "\n",
    "* 가장 최악의 경우는 역순으로 되어있는 경우\n",
    "* 메모리 접근 횟수\n",
    "* 등차수열 -> n^2 복잡도\n",
    "* is it fast?\n",
    "    * 입력이 많아지면 느려진다.\n",
    "\n",
    "# kinds of analysis\n",
    "\n",
    "* 최악에 케이스에 집중해야한다.\n",
    "* Worst case (usually)\n",
    "    * T(n) = max time on any input of size n\n",
    "* Average case (sometimes)\n",
    "    * T(n) = expected time over all inputs of size n\n",
    "* Need assumption of statistic distribution -> uniform distribution or something\n",
    "* best-case (bogus - fake maybe)\n",
    "    * 아마 발생하지 않을 것\n",
    "\n",
    "# What is insertion sort's runinng time?\n",
    "\n",
    "* Depends on computer.\n",
    "    * relative speed (on same machine)\n",
    "    * absolute speed (on diff machine)\n",
    "* Big IDEA! -> 점근적 분석 (Asymptotic analysis)\n",
    "    * Ignore machine dependent constants / 기계의존적 함수 무시\n",
    "    * Look at growth of T(n) as n -> infinity / 러닝 타임의 증가를 본다.\n",
    "\n",
    "# Asymptotic notaion\n",
    "\n",
    "* theta - notation : Drop low-order terms, Ignore leading constant // 낮은 차수, 최고차 항 차수 상수 삭제해서 선택\n",
    "* ex 3n^3 + 60n + 6 => theta(n3)\n",
    "* big-O notation - I think it's a most common task.\n",
    "* omega notation\n",
    "* n^3, n^2를 비교하면 n_o 같은 교차지점이 생긴다. 적절한 크기에 인풋에 따르면 n^2는 n^3보다 빠르게 동작한다."
   ]
  },
  {
   "cell_type": "code",
   "execution_count": 27,
   "metadata": {},
   "outputs": [
    {
     "name": "stdout",
     "output_type": "stream",
     "text": [
      "[1, 3, 2, 5, 4]\n",
      "[1, 2, 3, 5, 4]\n",
      "[1, 2, 3, 4, 5]\n"
     ]
    }
   ],
   "source": [
    "tgt = [3,1,2,5,4]\n",
    "\n",
    "i = 1\n",
    "while i < len(tgt):\n",
    "  j = i\n",
    "  while j > 0 and tgt[j-1] > tgt[j]:\n",
    "    tgt[j-1], tgt[j] = tgt[j], tgt[j-1]\n",
    "    j = j - 1\n",
    "    print(tgt)\n",
    "  i = i + 1\n",
    "  "
   ]
  },
  {
   "cell_type": "markdown",
   "metadata": {},
   "source": [
    "# merge sort\n",
    "\n",
    "* A = {1 ... N}\n",
    "* recursively sort\n",
    "* 1 부터 n/2, n/2 + 1 부터 n까지 정렬\n",
    "* Merge's 2 sorted list -> 서브루틴 사용\n",
    "\n",
    "## key subroutine : Merge\n",
    "\n",
    "* {20, 13, 7, 2}, {12,11,9,1}\n",
    "* 가장 작은 원소가 있는 곳을 찾아야한다. -> Head로 설정하고 비교\n",
    "* 둘 중에 더 작은 원소를 배열에 넣어준다. 그리고 지우고 다음 걸 가르킨다.\n",
    "\n",
    "* T(n) = theta(n) on n total elements -> linear time (선형 시간) - 단계별\n",
    "* theta(n)\n",
    "* 2T(n/2)\n",
    "* T(n)\n",
    "\n",
    "* Recursion tree\n",
    "    * T(n) = 2T(n/2) + cn (//c>0, constant time)\n",
    "    * T(n) = cn   // c = T(n/2), n = T(n/2) - 단말노드에 도착할때 까지\n",
    "    * h = log n 단말수 n 개\n",
    "    * tree당 복잡도 \n",
    "    \n",
    "* 결론 nlogn 복잡도"
   ]
  },
  {
   "cell_type": "code",
   "execution_count": null,
   "metadata": {},
   "outputs": [],
   "source": []
  }
 ],
 "metadata": {
  "kernelspec": {
   "display_name": "Python 3",
   "language": "python",
   "name": "python3"
  },
  "language_info": {
   "codemirror_mode": {
    "name": "ipython",
    "version": 3
   },
   "file_extension": ".py",
   "mimetype": "text/x-python",
   "name": "python",
   "nbconvert_exporter": "python",
   "pygments_lexer": "ipython3",
   "version": "3.6.5"
  }
 },
 "nbformat": 4,
 "nbformat_minor": 2
}
