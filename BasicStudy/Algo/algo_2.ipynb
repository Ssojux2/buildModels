{
 "cells": [
  {
   "cell_type": "markdown",
   "metadata": {},
   "source": [
    "# Asymptotic Notation / Recurrences / Substitution, Master Method\n",
    "\n",
    "## Asymptotic notation\n",
    "\n",
    "* f(n) = O(g(n)) means there are consts C > 0, n0 > 0 such that O <= f(n) <= c g(n) for all n >= n0\n",
    "* set defineded O(g(n)) = f(n) : there are consts c>0, n0 > 0 for all n >= n0\n",
    "* macro convention : a set in a for mula represents an anonymous function in that set.\n",
    "    * f(n) = n^3 + O(n^3) MEANS  there is a f(n) = h(n) c O(n^2) such that f(n) = n^3 + h(n)\n",
    "* f(n) = n^3 \n",
    "* n^2 + O(n) = O (n^2) 역은 안된다 -> bigO : upper bound\n",
    "\n",
    "* lower bound : 적어도 어느 정도의 시간을 요구하는 것\n",
    "* Big omega notation\n",
    "\n",
    "* Omega(g(n)) = f(n) : there exist consts c>0, n0 > 0 such that 0 <= c(g(n)) < f(n) for all n >= n0 for all\n",
    "* root n = omega(log n) :  analogies  bigO  <= /// bigOmega >= ///\n",
    "* Big theta(g(n)) = O(g(n)) and Omega(g(n))\n",
    "\n",
    "\n",
    "\n"
   ]
  }
 ],
 "metadata": {
  "kernelspec": {
   "display_name": "Python 3",
   "language": "python",
   "name": "python3"
  },
  "language_info": {
   "codemirror_mode": {
    "name": "ipython",
    "version": 3
   },
   "file_extension": ".py",
   "mimetype": "text/x-python",
   "name": "python",
   "nbconvert_exporter": "python",
   "pygments_lexer": "ipython3",
   "version": "3.6.5"
  }
 },
 "nbformat": 4,
 "nbformat_minor": 2
}
